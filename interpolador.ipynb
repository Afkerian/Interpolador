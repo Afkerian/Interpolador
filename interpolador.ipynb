{
 "cells": [
  {
   "cell_type": "markdown",
   "metadata": {},
   "source": [
    "# ModelASO - Interpolador"
   ]
  },
  {
   "cell_type": "markdown",
   "metadata": {},
   "source": [
    "## Unificar y convertir archivos.csv"
   ]
  },
  {
   "cell_type": "code",
   "execution_count": 3,
   "metadata": {},
   "outputs": [],
   "source": [
    "import os\n",
    "import csv\n",
    "import pandas as pd\n",
    "\n",
    "def convertir_a_csv_sumando_columnas(directorio):\n",
    "    # Lista para almacenar los datos de todos los receptores\n",
    "    datos = []\n",
    "\n",
    "    # Iterar sobre cada archivo en el directorio\n",
    "    for archivo in os.listdir(directorio):\n",
    "        if archivo.endswith(\".txt\"):\n",
    "            # Extraer las coordenadas del nombre del archivo\n",
    "            partes = archivo.split('_')\n",
    "            x, y, z = partes[1], partes[2], partes[3].split('.')[0]\n",
    "            \n",
    "            # Leer el contenido del archivo y sumar la primera y segunda columnas\n",
    "            with open(os.path.join(directorio, archivo), 'r') as f:\n",
    "                # Cambiar esta línea para sumar la primera y la segunda columna\n",
    "                energias = [str(float(line.split()[0]) + float(line.split()[1])) for line in f if line.strip()]\n",
    "\n",
    "            # Agregar las coordenadas y las energías sumadas a la lista de datos\n",
    "            datos.append([x, y, z] + energias)\n",
    "\n",
    "    # Nombre del archivo CSV de salida\n",
    "    archivo_csv = os.path.join(directorio, \"resultado_con_columnas_sumadas.csv\")\n",
    "    \n",
    "    # Escribir los datos al archivo CSV\n",
    "    with open(archivo_csv, 'w', newline='') as f:\n",
    "        escritor = csv.writer(f, delimiter=';')  # Usar punto y coma como delimitador\n",
    "        # Escribir el encabezado\n",
    "        encabezado = ['x', 'y', 'z'] + [f'SumaEnergia{i+1}' for i in range(len(datos[0])-3)]\n",
    "        escritor.writerow(encabezado)\n",
    "        \n",
    "        # Escribir los datos de los receptores\n",
    "        for fila in datos:\n",
    "            escritor.writerow(fila)\n",
    "\n",
    "# Llamar a la función con el directorio donde se encuentran tus archivos .txt\n",
    "convertir_a_csv_sumando_columnas('./Energia/')\n",
    "\n",
    "\n"
   ]
  },
  {
   "cell_type": "code",
   "execution_count": 4,
   "metadata": {},
   "outputs": [
    {
     "name": "stdout",
     "output_type": "stream",
     "text": [
      "    x  y  z  SumaEnergia1  SumaEnergia2  SumaEnergia3  SumaEnergia4  \\\n",
      "0   0  0  0           0.0           0.0           0.0           0.0   \n",
      "1  -1  0  1           0.0           0.0           0.0           0.0   \n",
      "2   0  1  0           0.0           0.0           0.0           0.0   \n",
      "3  -1 -1  1           0.0           0.0           0.0           0.0   \n",
      "4   0  0 -1           0.0           0.0           0.0           0.0   \n",
      "5   1  1  0           0.0           0.0           0.0           0.0   \n",
      "6   0 -1  1           0.0           0.0           0.0           0.0   \n",
      "7  -1  1  0           0.0           0.0           0.0           0.0   \n",
      "8   0  0  1           0.0           0.0           0.0           0.0   \n",
      "9   1  0  0           0.0           0.0           0.0           0.0   \n",
      "10  1 -1  0           0.0           0.0           0.0           0.0   \n",
      "11 -1 -1 -1           0.0           0.0           0.0           0.0   \n",
      "12  1  0  1           0.0           0.0           0.0           0.0   \n",
      "13  0  1 -1           0.0           0.0           0.0           0.0   \n",
      "14  1  0 -1           0.0           0.0           0.0           0.0   \n",
      "15  1 -1  1           0.0           0.0           0.0           0.0   \n",
      "16  1  1 -1           0.0           0.0           0.0           0.0   \n",
      "17  1 -1 -1           0.0           0.0           0.0           0.0   \n",
      "18 -1  1 -1           0.0           0.0           0.0           0.0   \n",
      "19  1  1  1           0.0           0.0           0.0           0.0   \n",
      "20 -1  1  1           0.0           0.0           0.0           0.0   \n",
      "21 -1 -1  0           0.0           0.0           0.0           0.0   \n",
      "22 -1  0  0           0.0           0.0           0.0           0.0   \n",
      "23  0 -1 -1           0.0           0.0           0.0           0.0   \n",
      "24  0 -1  0           0.0           0.0           0.0           0.0   \n",
      "25 -1  0 -1           0.0           0.0           0.0           0.0   \n",
      "26  0  1  1           0.0           0.0           0.0           0.0   \n",
      "\n",
      "    SumaEnergia5  SumaEnergia6  SumaEnergia7  ...  SumaEnergia991  \\\n",
      "0            0.0           0.0           0.0  ...    4.076080e-15   \n",
      "1            0.0           0.0           0.0  ...    4.079830e-15   \n",
      "2            0.0           0.0           0.0  ...    4.171450e-15   \n",
      "3            0.0           0.0           0.0  ...    3.964180e-15   \n",
      "4            0.0           0.0           0.0  ...    3.984030e-15   \n",
      "5            0.0           0.0           0.0  ...    4.256130e-15   \n",
      "6            0.0           0.0           0.0  ...    4.076810e-15   \n",
      "7            0.0           0.0           0.0  ...    4.084440e-15   \n",
      "8            0.0           0.0           0.0  ...    4.166730e-15   \n",
      "9            0.0           0.0           0.0  ...    4.176550e-15   \n",
      "10           0.0           0.0           0.0  ...    4.086150e-15   \n",
      "11           0.0           0.0           0.0  ...    3.738260e-15   \n",
      "12           0.0           0.0           0.0  ...    4.251370e-15   \n",
      "13           0.0           0.0           0.0  ...    4.077300e-15   \n",
      "14           0.0           0.0           0.0  ...    4.082170e-15   \n",
      "15           0.0           0.0           0.0  ...    4.154440e-15   \n",
      "16           0.0           0.0           0.0  ...    4.154900e-15   \n",
      "17           0.0           0.0           0.0  ...    3.967080e-15   \n",
      "18           0.0           0.0           0.0  ...    3.964620e-15   \n",
      "19           0.0           0.0           0.0  ...    4.313480e-15   \n",
      "20           0.0           0.0           0.0  ...    4.151680e-15   \n",
      "21           0.0           0.0           0.0  ...    3.877710e-15   \n",
      "22           0.0           0.0           0.0  ...    3.992230e-15   \n",
      "23           0.0           0.0           0.0  ...    3.870690e-15   \n",
      "24           0.0           0.0           0.0  ...    3.987910e-15   \n",
      "25           0.0           0.0           0.0  ...    3.873920e-15   \n",
      "26           0.0           0.0           0.0  ...    4.245840e-15   \n",
      "\n",
      "    SumaEnergia992  SumaEnergia993  SumaEnergia994  SumaEnergia995  \\\n",
      "0     3.949550e-15    3.826940e-15    3.708140e-15    3.593030e-15   \n",
      "1     3.953180e-15    3.830460e-15    3.711550e-15    3.596330e-15   \n",
      "2     4.041960e-15    3.916480e-15    3.794900e-15    3.677100e-15   \n",
      "3     3.841120e-15    3.721880e-15    3.606340e-15    3.494390e-15   \n",
      "4     3.860360e-15    3.740520e-15    3.624400e-15    3.511890e-15   \n",
      "5     4.124010e-15    3.995990e-15    3.871940e-15    3.751740e-15   \n",
      "6     3.950250e-15    3.827620e-15    3.708800e-15    3.593670e-15   \n",
      "7     3.957650e-15    3.834790e-15    3.715750e-15    3.600400e-15   \n",
      "8     4.037380e-15    3.912050e-15    3.790610e-15    3.672940e-15   \n",
      "9     4.046900e-15    3.921270e-15    3.799540e-15    3.681590e-15   \n",
      "10    3.959300e-15    3.836390e-15    3.717300e-15    3.601900e-15   \n",
      "11    3.622210e-15    3.509770e-15    3.400820e-15    3.295240e-15   \n",
      "12    4.119400e-15    3.991520e-15    3.867610e-15    3.747550e-15   \n",
      "13    3.950730e-15    3.828090e-15    3.709250e-15    3.594100e-15   \n",
      "14    3.955450e-15    3.832660e-15    3.713680e-15    3.598400e-15   \n",
      "15    4.025470e-15    3.900510e-15    3.779430e-15    3.662100e-15   \n",
      "16    4.025920e-15    3.900940e-15    3.779840e-15    3.662510e-15   \n",
      "17    3.843930e-15    3.724600e-15    3.608980e-15    3.496940e-15   \n",
      "18    3.841540e-15    3.722290e-15    3.606740e-15    3.494770e-15   \n",
      "19    4.179580e-15    4.049830e-15    3.924110e-15    3.802290e-15   \n",
      "20    4.022800e-15    3.897920e-15    3.776920e-15    3.659670e-15   \n",
      "21    3.757340e-15    3.640700e-15    3.527680e-15    3.418170e-15   \n",
      "22    3.868300e-15    3.748220e-15    3.631860e-15    3.519120e-15   \n",
      "23    3.750540e-15    3.634110e-15    3.521290e-15    3.411980e-15   \n",
      "24    3.864110e-15    3.744160e-15    3.627930e-15    3.515310e-15   \n",
      "25    3.753660e-15    3.637140e-15    3.524230e-15    3.414830e-15   \n",
      "26    4.114030e-15    3.986320e-15    3.862570e-15    3.742670e-15   \n",
      "\n",
      "    SumaEnergia996  SumaEnergia997  SumaEnergia998  SumaEnergia999  \\\n",
      "0     3.481490e-15    3.373420e-15    3.268700e-15    3.167230e-15   \n",
      "1     3.484690e-15    3.376510e-15    3.271700e-15    3.170130e-15   \n",
      "2     3.562950e-15    3.452340e-15    3.345170e-15    3.241330e-15   \n",
      "3     3.385910e-15    3.280800e-15    3.178960e-15    3.080270e-15   \n",
      "4     3.402870e-15    3.297230e-15    3.194880e-15    3.095700e-15   \n",
      "5     3.635280e-15    3.522430e-15    3.413080e-15    3.307130e-15   \n",
      "6     3.482110e-15    3.374020e-15    3.269280e-15    3.167790e-15   \n",
      "7     3.488630e-15    3.380340e-15    3.275400e-15    3.173720e-15   \n",
      "8     3.558920e-15    3.448440e-15    3.341390e-15    3.237660e-15   \n",
      "9     3.567300e-15    3.456560e-15    3.349260e-15    3.245290e-15   \n",
      "10    3.490090e-15    3.381750e-15    3.276770e-15    3.175040e-15   \n",
      "11    3.192950e-15    3.093830e-15    2.997790e-15    2.904730e-15   \n",
      "12    3.631210e-15    3.518490e-15    3.409260e-15    3.303430e-15   \n",
      "13    3.482530e-15    3.374420e-15    3.269670e-15    3.168170e-15   \n",
      "14    3.486690e-15    3.378460e-15    3.273580e-15    3.171960e-15   \n",
      "15    3.548420e-15    3.438270e-15    3.331530e-15    3.228110e-15   \n",
      "16    3.548810e-15    3.438640e-15    3.331900e-15    3.228470e-15   \n",
      "17    3.388390e-15    3.283200e-15    3.181280e-15    3.082530e-15   \n",
      "18    3.386280e-15    3.281160e-15    3.179310e-15    3.080610e-15   \n",
      "19    3.684260e-15    3.569890e-15    3.459070e-15    3.351690e-15   \n",
      "20    3.546070e-15    3.435980e-15    3.329320e-15    3.225970e-15   \n",
      "21    3.312060e-15    3.209240e-15    3.109620e-15    3.013090e-15   \n",
      "22    3.409870e-15    3.304020e-15    3.201450e-15    3.102070e-15   \n",
      "23    3.306060e-15    3.203430e-15    3.103990e-15    3.007630e-15   \n",
      "24    3.406180e-15    3.300440e-15    3.197990e-15    3.098710e-15   \n",
      "25    3.308820e-15    3.206100e-15    3.106580e-15    3.010140e-15   \n",
      "26    3.626480e-15    3.513910e-15    3.404830e-15    3.299130e-15   \n",
      "\n",
      "    SumaEnergia1000  \n",
      "0      3.068900e-15  \n",
      "1      3.071720e-15  \n",
      "2      3.140710e-15  \n",
      "3      2.984650e-15  \n",
      "4      2.999600e-15  \n",
      "5      3.204470e-15  \n",
      "6      3.069450e-15  \n",
      "7      3.075200e-15  \n",
      "8      3.137150e-15  \n",
      "9      3.144550e-15  \n",
      "10     3.076480e-15  \n",
      "11     2.814560e-15  \n",
      "12     3.200880e-15  \n",
      "13     3.069820e-15  \n",
      "14     3.073490e-15  \n",
      "15     3.127900e-15  \n",
      "16     3.128240e-15  \n",
      "17     2.986830e-15  \n",
      "18     2.984980e-15  \n",
      "19     3.247640e-15  \n",
      "20     3.125820e-15  \n",
      "21     2.919550e-15  \n",
      "22     3.005770e-15  \n",
      "23     2.914260e-15  \n",
      "24     3.002520e-15  \n",
      "25     2.916700e-15  \n",
      "26     3.196710e-15  \n",
      "\n",
      "[27 rows x 1003 columns]\n"
     ]
    }
   ],
   "source": [
    "ruta = './Energia/resultado_con_columnas_sumadas.csv'\n",
    "df=pd.read_csv(ruta, delimiter=';')\n",
    "print(df)"
   ]
  },
  {
   "cell_type": "markdown",
   "metadata": {},
   "source": [
    "## Creación del interpolador\n",
    "Habrá 14 puntos en una arista del sub cubo incluidos los vertices"
   ]
  },
  {
   "cell_type": "code",
   "execution_count": 6,
   "metadata": {},
   "outputs": [],
   "source": [
    "import numpy as np\n",
    "from scipy.interpolate import RegularGridInterpolator\n",
    "import pandas as pd\n",
    "\n",
    "# Función que realiza la interpolación trilineal en lotes\n",
    "def trilinear_interpolation_in_batches(input_csv, n, output_csv, batch_size=100):\n",
    "    # Cargar los datos\n",
    "    input_data = pd.read_csv(input_csv, delimiter=';')\n",
    "    \n",
    "    # Extraer las coordenadas y los valores de energía\n",
    "    coordinates = input_data[['x', 'y', 'z']].values\n",
    "    energies = input_data.filter(like='Energia').values\n",
    "\n",
    "    # Definir los puntos de la cuadrícula\n",
    "    grid_x, grid_y, grid_z = np.linspace(-1, 1, 3), np.linspace(-1, 1, 3), np.linspace(-1, 1, 3)\n",
    "\n",
    "    # Organizar los datos de energía en una matriz 3x3x3x1000\n",
    "    energy_grid = np.zeros((3, 3, 3, energies.shape[1]))\n",
    "    for i, (x, y, z) in enumerate(coordinates):\n",
    "        ix, iy, iz = int((x + 1) * 1), int((y + 1) * 1), int((z + 1) * 1)\n",
    "        energy_grid[ix, iy, iz] = energies[i]\n",
    "\n",
    "    # Crear la función de interpolación trilineal\n",
    "    interpolating_function = RegularGridInterpolator((grid_x, grid_y, grid_z), energy_grid)\n",
    "\n",
    "    # Calcular los nuevos puntos para la interpolación\n",
    "    new_grid_x, new_grid_y, new_grid_z = np.linspace(-1, 1, n), np.linspace(-1, 1, n), np.linspace(-1, 1, n)\n",
    "    xi, yi, zi = np.meshgrid(new_grid_x, new_grid_y, new_grid_z, indexing='ij')\n",
    "    new_points = np.array([xi.flatten(), yi.flatten(), zi.flatten()]).T\n",
    "    \n",
    "    # Preparar el DataFrame de salida\n",
    "    interpolated_df = pd.DataFrame(new_points, columns=['x', 'y', 'z'])\n",
    "    \n",
    "    # Realizar la interpolación en lotes y agregar al DataFrame de salida\n",
    "    for i in range(0, energies.shape[1], batch_size):\n",
    "        end_index = min(i + batch_size, energies.shape[1])\n",
    "        batch = interpolating_function(new_points)[:, i:end_index]\n",
    "        interpolated_df = pd.concat([interpolated_df, pd.DataFrame(batch, columns=[f'Energia{j+1}' for j in range(i, end_index)])], axis=1)\n",
    "    \n",
    "    # Guardar los datos interpolados en un archivo CSV\n",
    "    interpolated_df.to_csv(output_csv, sep=';', index=False)\n",
    "    \n",
    "    return interpolated_df\n",
    "\n",
    "# Ejemplo de uso de la función\n",
    "# El siguiente código debe ser ejecutado en tu máquina local\n",
    "interpolated_full_df = trilinear_interpolation_in_batches('./Energia/resultado_con_columnas_sumadas.csv', 14, 'interpolado.csv')\n",
    "\n"
   ]
  },
  {
   "cell_type": "markdown",
   "metadata": {},
   "source": [
    "## Creación de la red neuronal"
   ]
  },
  {
   "cell_type": "markdown",
   "metadata": {},
   "source": [
    "#### Preparación de datos para el algoritmo de red neuronal \n",
    "- Definición de grupo de entrenamiento y testeo\n",
    "- Normalización"
   ]
  },
  {
   "cell_type": "code",
   "execution_count": 8,
   "metadata": {},
   "outputs": [],
   "source": [
    "import pandas as pd\n",
    "from sklearn.model_selection import train_test_split\n",
    "from sklearn.preprocessing import StandardScaler\n",
    "\n",
    "# Cargar datos\n",
    "data = pd.read_csv('interpolado.csv', delimiter=';')\n",
    "\n",
    "# Separar entradas y salidas\n",
    "X = data[['x', 'y', 'z']].values\n",
    "y = data.drop(['x', 'y', 'z'], axis=1).values\n",
    "\n",
    "\n",
    "# Dividir los datos en entrenamiento y prueba\n",
    "X_train, X_test, y_train, y_test = train_test_split(X, y, test_size=0.2, random_state=42)\n",
    "\n",
    "# Normalizar los datos\n",
    "scaler_x = StandardScaler().fit(X_train)\n",
    "scaler_y = StandardScaler().fit(y_train)\n",
    "X_train_scaled = scaler_x.transform(X_train)\n",
    "X_test_scaled = scaler_x.transform(X_test)\n",
    "y_train_scaled = scaler_y.transform(y_train)\n",
    "y_test_scaled = scaler_y.transform(y_test)\n"
   ]
  },
  {
   "cell_type": "markdown",
   "metadata": {},
   "source": [
    "#### Configuración del modelo"
   ]
  },
  {
   "cell_type": "code",
   "execution_count": 9,
   "metadata": {},
   "outputs": [
    {
     "name": "stderr",
     "output_type": "stream",
     "text": [
      "2025-02-07 22:46:04.191049: I external/local_xla/xla/tsl/cuda/cudart_stub.cc:32] Could not find cuda drivers on your machine, GPU will not be used.\n",
      "2025-02-07 22:46:04.195074: I external/local_xla/xla/tsl/cuda/cudart_stub.cc:32] Could not find cuda drivers on your machine, GPU will not be used.\n",
      "2025-02-07 22:46:04.206192: E external/local_xla/xla/stream_executor/cuda/cuda_fft.cc:477] Unable to register cuFFT factory: Attempting to register factory for plugin cuFFT when one has already been registered\n",
      "WARNING: All log messages before absl::InitializeLog() is called are written to STDERR\n",
      "E0000 00:00:1738986364.224648   16048 cuda_dnn.cc:8310] Unable to register cuDNN factory: Attempting to register factory for plugin cuDNN when one has already been registered\n",
      "E0000 00:00:1738986364.229663   16048 cuda_blas.cc:1418] Unable to register cuBLAS factory: Attempting to register factory for plugin cuBLAS when one has already been registered\n",
      "/home/alejandro/Descargas/Modelos ML/modelos-ia/env/lib/python3.11/site-packages/keras/src/layers/core/dense.py:87: UserWarning: Do not pass an `input_shape`/`input_dim` argument to a layer. When using Sequential models, prefer using an `Input(shape)` object as the first layer in the model instead.\n",
      "  super().__init__(activity_regularizer=activity_regularizer, **kwargs)\n",
      "2025-02-07 22:46:06.482818: E external/local_xla/xla/stream_executor/cuda/cuda_driver.cc:152] failed call to cuInit: INTERNAL: CUDA error: Failed call to cuInit: UNKNOWN ERROR (303)\n"
     ]
    }
   ],
   "source": [
    "from tensorflow.keras.models import Sequential\n",
    "from tensorflow.keras.layers import Dense\n",
    "\n",
    "# Construir el modelo\n",
    "model = Sequential([\n",
    "    Dense(64, activation='relu', input_shape=(3,)),\n",
    "    Dense(128, activation='relu'),\n",
    "    Dense(256, activation='relu'),\n",
    "    Dense(1000)\n",
    "    #Dense(1000, activation = 'tanh')  # Salida: 1000 valores de energía\n",
    "])\n",
    "\n",
    "# Compilar el modelo\n",
    "model.compile(optimizer='adam', loss='mean_squared_error')\n"
   ]
  },
  {
   "cell_type": "markdown",
   "metadata": {},
   "source": [
    "#### Entrenamiento del modelo"
   ]
  },
  {
   "cell_type": "code",
   "execution_count": 10,
   "metadata": {},
   "outputs": [
    {
     "name": "stdout",
     "output_type": "stream",
     "text": [
      "Epoch 1/100\n",
      "\u001b[1m55/55\u001b[0m \u001b[32m━━━━━━━━━━━━━━━━━━━━\u001b[0m\u001b[37m\u001b[0m \u001b[1m2s\u001b[0m 11ms/step - loss: 4.3665e-04 - val_loss: 7.8511e-05\n",
      "Epoch 2/100\n",
      "\u001b[1m55/55\u001b[0m \u001b[32m━━━━━━━━━━━━━━━━━━━━\u001b[0m\u001b[37m\u001b[0m \u001b[1m0s\u001b[0m 7ms/step - loss: 5.8326e-05 - val_loss: 3.5950e-05\n",
      "Epoch 3/100\n",
      "\u001b[1m55/55\u001b[0m \u001b[32m━━━━━━━━━━━━━━━━━━━━\u001b[0m\u001b[37m\u001b[0m \u001b[1m0s\u001b[0m 7ms/step - loss: 3.0821e-05 - val_loss: 2.4879e-05\n",
      "Epoch 4/100\n",
      "\u001b[1m55/55\u001b[0m \u001b[32m━━━━━━━━━━━━━━━━━━━━\u001b[0m\u001b[37m\u001b[0m \u001b[1m0s\u001b[0m 7ms/step - loss: 2.0578e-05 - val_loss: 1.9204e-05\n",
      "Epoch 5/100\n",
      "\u001b[1m55/55\u001b[0m \u001b[32m━━━━━━━━━━━━━━━━━━━━\u001b[0m\u001b[37m\u001b[0m \u001b[1m0s\u001b[0m 8ms/step - loss: 1.6235e-05 - val_loss: 1.4895e-05\n",
      "Epoch 6/100\n",
      "\u001b[1m55/55\u001b[0m \u001b[32m━━━━━━━━━━━━━━━━━━━━\u001b[0m\u001b[37m\u001b[0m \u001b[1m0s\u001b[0m 8ms/step - loss: 1.3762e-05 - val_loss: 1.2621e-05\n",
      "Epoch 7/100\n",
      "\u001b[1m55/55\u001b[0m \u001b[32m━━━━━━━━━━━━━━━━━━━━\u001b[0m\u001b[37m\u001b[0m \u001b[1m0s\u001b[0m 8ms/step - loss: 1.0558e-05 - val_loss: 1.0713e-05\n",
      "Epoch 8/100\n",
      "\u001b[1m55/55\u001b[0m \u001b[32m━━━━━━━━━━━━━━━━━━━━\u001b[0m\u001b[37m\u001b[0m \u001b[1m0s\u001b[0m 8ms/step - loss: 9.0276e-06 - val_loss: 8.8830e-06\n",
      "Epoch 9/100\n",
      "\u001b[1m55/55\u001b[0m \u001b[32m━━━━━━━━━━━━━━━━━━━━\u001b[0m\u001b[37m\u001b[0m \u001b[1m1s\u001b[0m 8ms/step - loss: 8.1451e-06 - val_loss: 7.5828e-06\n",
      "Epoch 10/100\n",
      "\u001b[1m55/55\u001b[0m \u001b[32m━━━━━━━━━━━━━━━━━━━━\u001b[0m\u001b[37m\u001b[0m \u001b[1m0s\u001b[0m 8ms/step - loss: 7.0647e-06 - val_loss: 6.5781e-06\n",
      "Epoch 11/100\n",
      "\u001b[1m55/55\u001b[0m \u001b[32m━━━━━━━━━━━━━━━━━━━━\u001b[0m\u001b[37m\u001b[0m \u001b[1m0s\u001b[0m 8ms/step - loss: 5.8376e-06 - val_loss: 5.6873e-06\n",
      "Epoch 12/100\n",
      "\u001b[1m55/55\u001b[0m \u001b[32m━━━━━━━━━━━━━━━━━━━━\u001b[0m\u001b[37m\u001b[0m \u001b[1m0s\u001b[0m 9ms/step - loss: 5.2294e-06 - val_loss: 5.2910e-06\n",
      "Epoch 13/100\n",
      "\u001b[1m55/55\u001b[0m \u001b[32m━━━━━━━━━━━━━━━━━━━━\u001b[0m\u001b[37m\u001b[0m \u001b[1m0s\u001b[0m 8ms/step - loss: 4.8382e-06 - val_loss: 5.0705e-06\n",
      "Epoch 14/100\n",
      "\u001b[1m55/55\u001b[0m \u001b[32m━━━━━━━━━━━━━━━━━━━━\u001b[0m\u001b[37m\u001b[0m \u001b[1m0s\u001b[0m 8ms/step - loss: 4.2780e-06 - val_loss: 4.3110e-06\n",
      "Epoch 15/100\n",
      "\u001b[1m55/55\u001b[0m \u001b[32m━━━━━━━━━━━━━━━━━━━━\u001b[0m\u001b[37m\u001b[0m \u001b[1m0s\u001b[0m 7ms/step - loss: 3.8452e-06 - val_loss: 3.9760e-06\n",
      "Epoch 16/100\n",
      "\u001b[1m55/55\u001b[0m \u001b[32m━━━━━━━━━━━━━━━━━━━━\u001b[0m\u001b[37m\u001b[0m \u001b[1m0s\u001b[0m 8ms/step - loss: 3.6418e-06 - val_loss: 3.5695e-06\n",
      "Epoch 17/100\n",
      "\u001b[1m55/55\u001b[0m \u001b[32m━━━━━━━━━━━━━━━━━━━━\u001b[0m\u001b[37m\u001b[0m \u001b[1m0s\u001b[0m 8ms/step - loss: 3.1809e-06 - val_loss: 4.0263e-06\n",
      "Epoch 18/100\n",
      "\u001b[1m55/55\u001b[0m \u001b[32m━━━━━━━━━━━━━━━━━━━━\u001b[0m\u001b[37m\u001b[0m \u001b[1m0s\u001b[0m 8ms/step - loss: 3.4122e-06 - val_loss: 3.1993e-06\n",
      "Epoch 19/100\n",
      "\u001b[1m55/55\u001b[0m \u001b[32m━━━━━━━━━━━━━━━━━━━━\u001b[0m\u001b[37m\u001b[0m \u001b[1m0s\u001b[0m 8ms/step - loss: 2.8701e-06 - val_loss: 3.0312e-06\n",
      "Epoch 20/100\n",
      "\u001b[1m55/55\u001b[0m \u001b[32m━━━━━━━━━━━━━━━━━━━━\u001b[0m\u001b[37m\u001b[0m \u001b[1m0s\u001b[0m 8ms/step - loss: 2.7252e-06 - val_loss: 2.8379e-06\n",
      "Epoch 21/100\n",
      "\u001b[1m55/55\u001b[0m \u001b[32m━━━━━━━━━━━━━━━━━━━━\u001b[0m\u001b[37m\u001b[0m \u001b[1m1s\u001b[0m 9ms/step - loss: 2.5544e-06 - val_loss: 2.7366e-06\n",
      "Epoch 22/100\n",
      "\u001b[1m55/55\u001b[0m \u001b[32m━━━━━━━━━━━━━━━━━━━━\u001b[0m\u001b[37m\u001b[0m \u001b[1m0s\u001b[0m 8ms/step - loss: 2.3118e-06 - val_loss: 2.6798e-06\n",
      "Epoch 23/100\n",
      "\u001b[1m55/55\u001b[0m \u001b[32m━━━━━━━━━━━━━━━━━━━━\u001b[0m\u001b[37m\u001b[0m \u001b[1m0s\u001b[0m 8ms/step - loss: 2.2060e-06 - val_loss: 2.7170e-06\n",
      "Epoch 24/100\n",
      "\u001b[1m55/55\u001b[0m \u001b[32m━━━━━━━━━━━━━━━━━━━━\u001b[0m\u001b[37m\u001b[0m \u001b[1m0s\u001b[0m 8ms/step - loss: 2.1571e-06 - val_loss: 2.3625e-06\n",
      "Epoch 25/100\n",
      "\u001b[1m55/55\u001b[0m \u001b[32m━━━━━━━━━━━━━━━━━━━━\u001b[0m\u001b[37m\u001b[0m \u001b[1m0s\u001b[0m 8ms/step - loss: 2.1156e-06 - val_loss: 2.3013e-06\n",
      "Epoch 26/100\n",
      "\u001b[1m55/55\u001b[0m \u001b[32m━━━━━━━━━━━━━━━━━━━━\u001b[0m\u001b[37m\u001b[0m \u001b[1m0s\u001b[0m 8ms/step - loss: 2.1427e-06 - val_loss: 2.2350e-06\n",
      "Epoch 27/100\n",
      "\u001b[1m55/55\u001b[0m \u001b[32m━━━━━━━━━━━━━━━━━━━━\u001b[0m\u001b[37m\u001b[0m \u001b[1m0s\u001b[0m 8ms/step - loss: 1.9552e-06 - val_loss: 2.2189e-06\n",
      "Epoch 28/100\n",
      "\u001b[1m55/55\u001b[0m \u001b[32m━━━━━━━━━━━━━━━━━━━━\u001b[0m\u001b[37m\u001b[0m \u001b[1m0s\u001b[0m 8ms/step - loss: 1.8848e-06 - val_loss: 2.0732e-06\n",
      "Epoch 29/100\n",
      "\u001b[1m55/55\u001b[0m \u001b[32m━━━━━━━━━━━━━━━━━━━━\u001b[0m\u001b[37m\u001b[0m \u001b[1m0s\u001b[0m 8ms/step - loss: 1.8858e-06 - val_loss: 1.9611e-06\n",
      "Epoch 30/100\n",
      "\u001b[1m55/55\u001b[0m \u001b[32m━━━━━━━━━━━━━━━━━━━━\u001b[0m\u001b[37m\u001b[0m \u001b[1m0s\u001b[0m 8ms/step - loss: 1.9030e-06 - val_loss: 1.9494e-06\n",
      "Epoch 31/100\n",
      "\u001b[1m55/55\u001b[0m \u001b[32m━━━━━━━━━━━━━━━━━━━━\u001b[0m\u001b[37m\u001b[0m \u001b[1m0s\u001b[0m 8ms/step - loss: 1.7027e-06 - val_loss: 1.9337e-06\n",
      "Epoch 32/100\n",
      "\u001b[1m55/55\u001b[0m \u001b[32m━━━━━━━━━━━━━━━━━━━━\u001b[0m\u001b[37m\u001b[0m \u001b[1m0s\u001b[0m 8ms/step - loss: 1.7380e-06 - val_loss: 1.8916e-06\n",
      "Epoch 33/100\n",
      "\u001b[1m55/55\u001b[0m \u001b[32m━━━━━━━━━━━━━━━━━━━━\u001b[0m\u001b[37m\u001b[0m \u001b[1m0s\u001b[0m 9ms/step - loss: 1.7607e-06 - val_loss: 1.8227e-06\n",
      "Epoch 34/100\n",
      "\u001b[1m55/55\u001b[0m \u001b[32m━━━━━━━━━━━━━━━━━━━━\u001b[0m\u001b[37m\u001b[0m \u001b[1m0s\u001b[0m 8ms/step - loss: 1.5613e-06 - val_loss: 1.7739e-06\n",
      "Epoch 35/100\n",
      "\u001b[1m55/55\u001b[0m \u001b[32m━━━━━━━━━━━━━━━━━━━━\u001b[0m\u001b[37m\u001b[0m \u001b[1m0s\u001b[0m 8ms/step - loss: 1.4940e-06 - val_loss: 1.7204e-06\n",
      "Epoch 36/100\n",
      "\u001b[1m55/55\u001b[0m \u001b[32m━━━━━━━━━━━━━━━━━━━━\u001b[0m\u001b[37m\u001b[0m \u001b[1m0s\u001b[0m 8ms/step - loss: 1.4479e-06 - val_loss: 1.5801e-06\n",
      "Epoch 37/100\n",
      "\u001b[1m55/55\u001b[0m \u001b[32m━━━━━━━━━━━━━━━━━━━━\u001b[0m\u001b[37m\u001b[0m \u001b[1m0s\u001b[0m 8ms/step - loss: 1.3880e-06 - val_loss: 1.6480e-06\n",
      "Epoch 38/100\n",
      "\u001b[1m55/55\u001b[0m \u001b[32m━━━━━━━━━━━━━━━━━━━━\u001b[0m\u001b[37m\u001b[0m \u001b[1m0s\u001b[0m 8ms/step - loss: 1.4012e-06 - val_loss: 1.6496e-06\n",
      "Epoch 39/100\n",
      "\u001b[1m55/55\u001b[0m \u001b[32m━━━━━━━━━━━━━━━━━━━━\u001b[0m\u001b[37m\u001b[0m \u001b[1m0s\u001b[0m 8ms/step - loss: 1.4394e-06 - val_loss: 1.4397e-06\n",
      "Epoch 40/100\n",
      "\u001b[1m55/55\u001b[0m \u001b[32m━━━━━━━━━━━━━━━━━━━━\u001b[0m\u001b[37m\u001b[0m \u001b[1m0s\u001b[0m 7ms/step - loss: 1.2848e-06 - val_loss: 1.4909e-06\n",
      "Epoch 41/100\n",
      "\u001b[1m55/55\u001b[0m \u001b[32m━━━━━━━━━━━━━━━━━━━━\u001b[0m\u001b[37m\u001b[0m \u001b[1m0s\u001b[0m 8ms/step - loss: 1.2210e-06 - val_loss: 1.8028e-06\n",
      "Epoch 42/100\n",
      "\u001b[1m55/55\u001b[0m \u001b[32m━━━━━━━━━━━━━━━━━━━━\u001b[0m\u001b[37m\u001b[0m \u001b[1m0s\u001b[0m 8ms/step - loss: 1.4034e-06 - val_loss: 1.4694e-06\n",
      "Epoch 43/100\n",
      "\u001b[1m55/55\u001b[0m \u001b[32m━━━━━━━━━━━━━━━━━━━━\u001b[0m\u001b[37m\u001b[0m \u001b[1m0s\u001b[0m 8ms/step - loss: 1.2299e-06 - val_loss: 1.3269e-06\n",
      "Epoch 44/100\n",
      "\u001b[1m55/55\u001b[0m \u001b[32m━━━━━━━━━━━━━━━━━━━━\u001b[0m\u001b[37m\u001b[0m \u001b[1m0s\u001b[0m 8ms/step - loss: 1.3227e-06 - val_loss: 1.2745e-06\n",
      "Epoch 45/100\n",
      "\u001b[1m55/55\u001b[0m \u001b[32m━━━━━━━━━━━━━━━━━━━━\u001b[0m\u001b[37m\u001b[0m \u001b[1m0s\u001b[0m 8ms/step - loss: 1.1095e-06 - val_loss: 1.5184e-06\n",
      "Epoch 46/100\n",
      "\u001b[1m55/55\u001b[0m \u001b[32m━━━━━━━━━━━━━━━━━━━━\u001b[0m\u001b[37m\u001b[0m \u001b[1m0s\u001b[0m 8ms/step - loss: 1.1900e-06 - val_loss: 1.2111e-06\n",
      "Epoch 47/100\n",
      "\u001b[1m55/55\u001b[0m \u001b[32m━━━━━━━━━━━━━━━━━━━━\u001b[0m\u001b[37m\u001b[0m \u001b[1m0s\u001b[0m 8ms/step - loss: 1.1065e-06 - val_loss: 1.2619e-06\n",
      "Epoch 48/100\n",
      "\u001b[1m55/55\u001b[0m \u001b[32m━━━━━━━━━━━━━━━━━━━━\u001b[0m\u001b[37m\u001b[0m \u001b[1m0s\u001b[0m 8ms/step - loss: 1.0556e-06 - val_loss: 1.1542e-06\n",
      "Epoch 49/100\n",
      "\u001b[1m55/55\u001b[0m \u001b[32m━━━━━━━━━━━━━━━━━━━━\u001b[0m\u001b[37m\u001b[0m \u001b[1m0s\u001b[0m 8ms/step - loss: 1.1294e-06 - val_loss: 1.1796e-06\n",
      "Epoch 50/100\n",
      "\u001b[1m55/55\u001b[0m \u001b[32m━━━━━━━━━━━━━━━━━━━━\u001b[0m\u001b[37m\u001b[0m \u001b[1m0s\u001b[0m 8ms/step - loss: 9.9408e-07 - val_loss: 1.0575e-06\n",
      "Epoch 51/100\n",
      "\u001b[1m55/55\u001b[0m \u001b[32m━━━━━━━━━━━━━━━━━━━━\u001b[0m\u001b[37m\u001b[0m \u001b[1m0s\u001b[0m 8ms/step - loss: 9.1543e-07 - val_loss: 1.2848e-06\n",
      "Epoch 52/100\n",
      "\u001b[1m55/55\u001b[0m \u001b[32m━━━━━━━━━━━━━━━━━━━━\u001b[0m\u001b[37m\u001b[0m \u001b[1m0s\u001b[0m 8ms/step - loss: 1.0340e-06 - val_loss: 1.2084e-06\n",
      "Epoch 53/100\n",
      "\u001b[1m55/55\u001b[0m \u001b[32m━━━━━━━━━━━━━━━━━━━━\u001b[0m\u001b[37m\u001b[0m \u001b[1m0s\u001b[0m 8ms/step - loss: 1.1378e-06 - val_loss: 1.1501e-06\n",
      "Epoch 54/100\n",
      "\u001b[1m55/55\u001b[0m \u001b[32m━━━━━━━━━━━━━━━━━━━━\u001b[0m\u001b[37m\u001b[0m \u001b[1m0s\u001b[0m 8ms/step - loss: 9.5890e-07 - val_loss: 1.0818e-06\n",
      "Epoch 55/100\n",
      "\u001b[1m55/55\u001b[0m \u001b[32m━━━━━━━━━━━━━━━━━━━━\u001b[0m\u001b[37m\u001b[0m \u001b[1m0s\u001b[0m 8ms/step - loss: 9.0796e-07 - val_loss: 9.6127e-07\n",
      "Epoch 56/100\n",
      "\u001b[1m55/55\u001b[0m \u001b[32m━━━━━━━━━━━━━━━━━━━━\u001b[0m\u001b[37m\u001b[0m \u001b[1m0s\u001b[0m 8ms/step - loss: 8.3349e-07 - val_loss: 1.1241e-06\n",
      "Epoch 57/100\n",
      "\u001b[1m55/55\u001b[0m \u001b[32m━━━━━━━━━━━━━━━━━━━━\u001b[0m\u001b[37m\u001b[0m \u001b[1m0s\u001b[0m 8ms/step - loss: 9.0242e-07 - val_loss: 1.0553e-06\n",
      "Epoch 58/100\n",
      "\u001b[1m55/55\u001b[0m \u001b[32m━━━━━━━━━━━━━━━━━━━━\u001b[0m\u001b[37m\u001b[0m \u001b[1m0s\u001b[0m 7ms/step - loss: 9.0311e-07 - val_loss: 9.9233e-07\n",
      "Epoch 59/100\n",
      "\u001b[1m55/55\u001b[0m \u001b[32m━━━━━━━━━━━━━━━━━━━━\u001b[0m\u001b[37m\u001b[0m \u001b[1m0s\u001b[0m 8ms/step - loss: 8.8011e-07 - val_loss: 9.1818e-07\n",
      "Epoch 60/100\n",
      "\u001b[1m55/55\u001b[0m \u001b[32m━━━━━━━━━━━━━━━━━━━━\u001b[0m\u001b[37m\u001b[0m \u001b[1m0s\u001b[0m 8ms/step - loss: 8.2759e-07 - val_loss: 9.6493e-07\n",
      "Epoch 61/100\n",
      "\u001b[1m55/55\u001b[0m \u001b[32m━━━━━━━━━━━━━━━━━━━━\u001b[0m\u001b[37m\u001b[0m \u001b[1m0s\u001b[0m 8ms/step - loss: 7.7261e-07 - val_loss: 9.0696e-07\n",
      "Epoch 62/100\n",
      "\u001b[1m55/55\u001b[0m \u001b[32m━━━━━━━━━━━━━━━━━━━━\u001b[0m\u001b[37m\u001b[0m \u001b[1m1s\u001b[0m 9ms/step - loss: 8.5096e-07 - val_loss: 8.8792e-07\n",
      "Epoch 63/100\n",
      "\u001b[1m55/55\u001b[0m \u001b[32m━━━━━━━━━━━━━━━━━━━━\u001b[0m\u001b[37m\u001b[0m \u001b[1m0s\u001b[0m 8ms/step - loss: 7.8963e-07 - val_loss: 8.4541e-07\n",
      "Epoch 64/100\n",
      "\u001b[1m55/55\u001b[0m \u001b[32m━━━━━━━━━━━━━━━━━━━━\u001b[0m\u001b[37m\u001b[0m \u001b[1m0s\u001b[0m 8ms/step - loss: 7.5698e-07 - val_loss: 8.6043e-07\n",
      "Epoch 65/100\n",
      "\u001b[1m55/55\u001b[0m \u001b[32m━━━━━━━━━━━━━━━━━━━━\u001b[0m\u001b[37m\u001b[0m \u001b[1m0s\u001b[0m 8ms/step - loss: 7.2956e-07 - val_loss: 9.7806e-07\n",
      "Epoch 66/100\n",
      "\u001b[1m55/55\u001b[0m \u001b[32m━━━━━━━━━━━━━━━━━━━━\u001b[0m\u001b[37m\u001b[0m \u001b[1m0s\u001b[0m 8ms/step - loss: 7.9152e-07 - val_loss: 8.6646e-07\n",
      "Epoch 67/100\n",
      "\u001b[1m55/55\u001b[0m \u001b[32m━━━━━━━━━━━━━━━━━━━━\u001b[0m\u001b[37m\u001b[0m \u001b[1m0s\u001b[0m 8ms/step - loss: 7.1250e-07 - val_loss: 8.0134e-07\n",
      "Epoch 68/100\n",
      "\u001b[1m55/55\u001b[0m \u001b[32m━━━━━━━━━━━━━━━━━━━━\u001b[0m\u001b[37m\u001b[0m \u001b[1m0s\u001b[0m 7ms/step - loss: 6.8313e-07 - val_loss: 8.1875e-07\n",
      "Epoch 69/100\n",
      "\u001b[1m55/55\u001b[0m \u001b[32m━━━━━━━━━━━━━━━━━━━━\u001b[0m\u001b[37m\u001b[0m \u001b[1m0s\u001b[0m 7ms/step - loss: 6.7644e-07 - val_loss: 8.0021e-07\n",
      "Epoch 70/100\n",
      "\u001b[1m55/55\u001b[0m \u001b[32m━━━━━━━━━━━━━━━━━━━━\u001b[0m\u001b[37m\u001b[0m \u001b[1m0s\u001b[0m 8ms/step - loss: 6.7236e-07 - val_loss: 7.7935e-07\n",
      "Epoch 71/100\n",
      "\u001b[1m55/55\u001b[0m \u001b[32m━━━━━━━━━━━━━━━━━━━━\u001b[0m\u001b[37m\u001b[0m \u001b[1m0s\u001b[0m 8ms/step - loss: 6.4860e-07 - val_loss: 7.9710e-07\n",
      "Epoch 72/100\n",
      "\u001b[1m55/55\u001b[0m \u001b[32m━━━━━━━━━━━━━━━━━━━━\u001b[0m\u001b[37m\u001b[0m \u001b[1m0s\u001b[0m 8ms/step - loss: 6.8811e-07 - val_loss: 8.0028e-07\n",
      "Epoch 73/100\n",
      "\u001b[1m55/55\u001b[0m \u001b[32m━━━━━━━━━━━━━━━━━━━━\u001b[0m\u001b[37m\u001b[0m \u001b[1m0s\u001b[0m 8ms/step - loss: 7.2600e-07 - val_loss: 8.7286e-07\n",
      "Epoch 74/100\n",
      "\u001b[1m55/55\u001b[0m \u001b[32m━━━━━━━━━━━━━━━━━━━━\u001b[0m\u001b[37m\u001b[0m \u001b[1m0s\u001b[0m 8ms/step - loss: 6.6174e-07 - val_loss: 6.8458e-07\n",
      "Epoch 75/100\n",
      "\u001b[1m55/55\u001b[0m \u001b[32m━━━━━━━━━━━━━━━━━━━━\u001b[0m\u001b[37m\u001b[0m \u001b[1m1s\u001b[0m 9ms/step - loss: 5.6987e-07 - val_loss: 6.5512e-07\n",
      "Epoch 76/100\n",
      "\u001b[1m55/55\u001b[0m \u001b[32m━━━━━━━━━━━━━━━━━━━━\u001b[0m\u001b[37m\u001b[0m \u001b[1m0s\u001b[0m 8ms/step - loss: 5.9483e-07 - val_loss: 7.5000e-07\n",
      "Epoch 77/100\n",
      "\u001b[1m55/55\u001b[0m \u001b[32m━━━━━━━━━━━━━━━━━━━━\u001b[0m\u001b[37m\u001b[0m \u001b[1m0s\u001b[0m 7ms/step - loss: 5.9452e-07 - val_loss: 7.2492e-07\n",
      "Epoch 78/100\n",
      "\u001b[1m55/55\u001b[0m \u001b[32m━━━━━━━━━━━━━━━━━━━━\u001b[0m\u001b[37m\u001b[0m \u001b[1m0s\u001b[0m 8ms/step - loss: 5.9325e-07 - val_loss: 6.9982e-07\n",
      "Epoch 79/100\n",
      "\u001b[1m55/55\u001b[0m \u001b[32m━━━━━━━━━━━━━━━━━━━━\u001b[0m\u001b[37m\u001b[0m \u001b[1m0s\u001b[0m 8ms/step - loss: 6.5322e-07 - val_loss: 7.3408e-07\n",
      "Epoch 80/100\n",
      "\u001b[1m55/55\u001b[0m \u001b[32m━━━━━━━━━━━━━━━━━━━━\u001b[0m\u001b[37m\u001b[0m \u001b[1m0s\u001b[0m 8ms/step - loss: 6.6585e-07 - val_loss: 7.6313e-07\n",
      "Epoch 81/100\n",
      "\u001b[1m55/55\u001b[0m \u001b[32m━━━━━━━━━━━━━━━━━━━━\u001b[0m\u001b[37m\u001b[0m \u001b[1m0s\u001b[0m 8ms/step - loss: 5.6376e-07 - val_loss: 6.7986e-07\n",
      "Epoch 82/100\n",
      "\u001b[1m55/55\u001b[0m \u001b[32m━━━━━━━━━━━━━━━━━━━━\u001b[0m\u001b[37m\u001b[0m \u001b[1m0s\u001b[0m 7ms/step - loss: 5.8062e-07 - val_loss: 6.4225e-07\n",
      "Epoch 83/100\n",
      "\u001b[1m55/55\u001b[0m \u001b[32m━━━━━━━━━━━━━━━━━━━━\u001b[0m\u001b[37m\u001b[0m \u001b[1m0s\u001b[0m 8ms/step - loss: 5.4027e-07 - val_loss: 6.0654e-07\n",
      "Epoch 84/100\n",
      "\u001b[1m55/55\u001b[0m \u001b[32m━━━━━━━━━━━━━━━━━━━━\u001b[0m\u001b[37m\u001b[0m \u001b[1m0s\u001b[0m 8ms/step - loss: 5.0643e-07 - val_loss: 5.6141e-07\n",
      "Epoch 85/100\n",
      "\u001b[1m55/55\u001b[0m \u001b[32m━━━━━━━━━━━━━━━━━━━━\u001b[0m\u001b[37m\u001b[0m \u001b[1m0s\u001b[0m 8ms/step - loss: 5.2831e-07 - val_loss: 5.8839e-07\n",
      "Epoch 86/100\n",
      "\u001b[1m55/55\u001b[0m \u001b[32m━━━━━━━━━━━━━━━━━━━━\u001b[0m\u001b[37m\u001b[0m \u001b[1m0s\u001b[0m 8ms/step - loss: 5.1035e-07 - val_loss: 6.4038e-07\n",
      "Epoch 87/100\n",
      "\u001b[1m55/55\u001b[0m \u001b[32m━━━━━━━━━━━━━━━━━━━━\u001b[0m\u001b[37m\u001b[0m \u001b[1m0s\u001b[0m 7ms/step - loss: 5.4647e-07 - val_loss: 5.5132e-07\n",
      "Epoch 88/100\n",
      "\u001b[1m55/55\u001b[0m \u001b[32m━━━━━━━━━━━━━━━━━━━━\u001b[0m\u001b[37m\u001b[0m \u001b[1m0s\u001b[0m 8ms/step - loss: 4.8894e-07 - val_loss: 5.7175e-07\n",
      "Epoch 89/100\n",
      "\u001b[1m55/55\u001b[0m \u001b[32m━━━━━━━━━━━━━━━━━━━━\u001b[0m\u001b[37m\u001b[0m \u001b[1m0s\u001b[0m 8ms/step - loss: 4.6207e-07 - val_loss: 5.3529e-07\n",
      "Epoch 90/100\n",
      "\u001b[1m55/55\u001b[0m \u001b[32m━━━━━━━━━━━━━━━━━━━━\u001b[0m\u001b[37m\u001b[0m \u001b[1m0s\u001b[0m 8ms/step - loss: 5.1051e-07 - val_loss: 1.2427e-06\n",
      "Epoch 91/100\n",
      "\u001b[1m55/55\u001b[0m \u001b[32m━━━━━━━━━━━━━━━━━━━━\u001b[0m\u001b[37m\u001b[0m \u001b[1m0s\u001b[0m 8ms/step - loss: 6.8634e-07 - val_loss: 6.2345e-07\n",
      "Epoch 92/100\n",
      "\u001b[1m55/55\u001b[0m \u001b[32m━━━━━━━━━━━━━━━━━━━━\u001b[0m\u001b[37m\u001b[0m \u001b[1m0s\u001b[0m 8ms/step - loss: 5.0019e-07 - val_loss: 5.4788e-07\n",
      "Epoch 93/100\n",
      "\u001b[1m55/55\u001b[0m \u001b[32m━━━━━━━━━━━━━━━━━━━━\u001b[0m\u001b[37m\u001b[0m \u001b[1m1s\u001b[0m 9ms/step - loss: 4.5267e-07 - val_loss: 5.8831e-07\n",
      "Epoch 94/100\n",
      "\u001b[1m55/55\u001b[0m \u001b[32m━━━━━━━━━━━━━━━━━━━━\u001b[0m\u001b[37m\u001b[0m \u001b[1m0s\u001b[0m 8ms/step - loss: 5.5674e-07 - val_loss: 5.2733e-07\n",
      "Epoch 95/100\n",
      "\u001b[1m55/55\u001b[0m \u001b[32m━━━━━━━━━━━━━━━━━━━━\u001b[0m\u001b[37m\u001b[0m \u001b[1m0s\u001b[0m 8ms/step - loss: 5.1090e-07 - val_loss: 6.3119e-07\n",
      "Epoch 96/100\n",
      "\u001b[1m55/55\u001b[0m \u001b[32m━━━━━━━━━━━━━━━━━━━━\u001b[0m\u001b[37m\u001b[0m \u001b[1m0s\u001b[0m 8ms/step - loss: 6.0516e-07 - val_loss: 5.4007e-07\n",
      "Epoch 97/100\n",
      "\u001b[1m55/55\u001b[0m \u001b[32m━━━━━━━━━━━━━━━━━━━━\u001b[0m\u001b[37m\u001b[0m \u001b[1m1s\u001b[0m 10ms/step - loss: 4.5314e-07 - val_loss: 5.2475e-07\n",
      "Epoch 98/100\n",
      "\u001b[1m55/55\u001b[0m \u001b[32m━━━━━━━━━━━━━━━━━━━━\u001b[0m\u001b[37m\u001b[0m \u001b[1m0s\u001b[0m 8ms/step - loss: 4.3668e-07 - val_loss: 5.2854e-07\n",
      "Epoch 99/100\n",
      "\u001b[1m55/55\u001b[0m \u001b[32m━━━━━━━━━━━━━━━━━━━━\u001b[0m\u001b[37m\u001b[0m \u001b[1m0s\u001b[0m 8ms/step - loss: 4.3836e-07 - val_loss: 5.3790e-07\n",
      "Epoch 100/100\n",
      "\u001b[1m55/55\u001b[0m \u001b[32m━━━━━━━━━━━━━━━━━━━━\u001b[0m\u001b[37m\u001b[0m \u001b[1m0s\u001b[0m 8ms/step - loss: 4.8272e-07 - val_loss: 4.9792e-07\n"
     ]
    }
   ],
   "source": [
    "#history = model.fit(X_train_scaled, y_train_scaled, epochs=100, batch_size=32, validation_split=0.2, verbose=1)\n",
    "history = model.fit(X_train, y_train, epochs=100, batch_size=32, validation_split=0.2, verbose=1)\n"
   ]
  },
  {
   "cell_type": "markdown",
   "metadata": {},
   "source": [
    "#### Evaluación del modelo"
   ]
  },
  {
   "cell_type": "code",
   "execution_count": 11,
   "metadata": {},
   "outputs": [
    {
     "name": "stdout",
     "output_type": "stream",
     "text": [
      "\u001b[1m18/18\u001b[0m \u001b[32m━━━━━━━━━━━━━━━━━━━━\u001b[0m\u001b[37m\u001b[0m \u001b[1m0s\u001b[0m 4ms/step - loss: 5.3110e-07 \n",
      "Test loss: 5.12536644237116e-07\n"
     ]
    }
   ],
   "source": [
    "loss = model.evaluate(X_test, y_test)\n",
    "print(f'Test loss: {loss}')\n"
   ]
  },
  {
   "cell_type": "code",
   "execution_count": 13,
   "metadata": {},
   "outputs": [
    {
     "data": {
      "image/png": "[encoded data removed]",
      "text/plain": [
       "<Figure size 640x480 with 1 Axes>"
      ]
     },
     "metadata": {},
     "output_type": "display_data"
    }
   ],
   "source": [
    "import matplotlib.pyplot as plt\n",
    "\n",
    "plt.plot(history.history['loss'], label='Training loss')\n",
    "plt.plot(history.history['val_loss'], label='Validation loss')\n",
    "plt.title('Training and Validation Loss')\n",
    "plt.xlabel('Epochs')\n",
    "plt.ylabel('Loss')\n",
    "plt.legend()\n",
    "plt.show()\n"
   ]
  },
  {
   "cell_type": "markdown",
   "metadata": {},
   "source": [
    "Conclusión: No existe overfitting"
   ]
  },
  {
   "cell_type": "markdown",
   "metadata": {},
   "source": [
    "#### Predicción para un punto arbitrario"
   ]
  },
  {
   "cell_type": "code",
   "execution_count": 14,
   "metadata": {},
   "outputs": [],
   "source": [
    "\n",
    "# Ejemplo de coordenadas arbitrarias\n",
    "x_arbitrario, y_arbitrario, z_arbitrario =X_test[200][0], X_test[200][1], X_test[200][2]\n",
    "# Normalizar las coordenadas arbitrarias\n",
    "#punto_arbitrario_scaled = scaler_x.transform([[x_arbitrario, y_arbitrario, z_arbitrario]])\n"
   ]
  },
  {
   "cell_type": "code",
   "execution_count": 24,
   "metadata": {},
   "outputs": [
    {
     "name": "stdout",
     "output_type": "stream",
     "text": [
      "Forma de y_train_scaled: (2195, 1000)\n",
      "Forma de y_test_scaled: (549, 1000)\n",
      "Forma de y_train: (2195, 1000)\n"
     ]
    }
   ],
   "source": [
    "print(\"Forma de y_train_scaled:\", y_train_scaled.shape)\n",
    "print(\"Forma de y_test_scaled:\", y_test_scaled.shape)\n",
    "print(\"Forma de y_train:\", y_train.shape)  # Debe ser (n_samples, 1000)\n"
   ]
  },
  {
   "cell_type": "code",
   "execution_count": 27,
   "metadata": {},
   "outputs": [
    {
     "name": "stdout",
     "output_type": "stream",
     "text": [
      "\u001b[1m1/1\u001b[0m \u001b[32m━━━━━━━━━━━━━━━━━━━━\u001b[0m\u001b[37m\u001b[0m \u001b[1m0s\u001b[0m 41ms/step\n"
     ]
    }
   ],
   "source": [
    "punto_arbitrario = np.array([[x_arbitrario, y_arbitrario, z_arbitrario]], dtype=np.float32)\n",
    "prediccion = model.predict(punto_arbitrario)\n"
   ]
  },
  {
   "cell_type": "code",
   "execution_count": 28,
   "metadata": {},
   "outputs": [],
   "source": [
    "# Asumiendo que tienes un DataFrame 'data' con tus datos originales o interpolados\n",
    "valores_reales = data[(data['x'] == x_arbitrario) & (data['y'] == y_arbitrario) & (data['z'] == z_arbitrario)].drop(['x', 'y', 'z'], axis=1).values[0]\n"
   ]
  },
  {
   "cell_type": "markdown",
   "metadata": {},
   "source": [
    "#### Gráfica de los primeros 200 milisegundos"
   ]
  },
  {
   "cell_type": "code",
   "execution_count": 29,
   "metadata": {},
   "outputs": [
    {
     "name": "stdout",
     "output_type": "stream",
     "text": [
      "<class 'numpy.ndarray'>\n",
      "<class 'numpy.ndarray'>\n"
     ]
    },
    {
     "data": {
      "image/png": "[encoded data removed]",
      "text/plain": [
       "<Figure size 1000x600 with 1 Axes>"
      ]
     },
     "metadata": {},
     "output_type": "display_data"
    }
   ],
   "source": [
    "print(type(valores_reales))\n",
    "print(type(prediccion))\n",
    "plt.figure(figsize=(10, 6))\n",
    "plt.plot(range(1, 201), valores_reales[:200], label='Valores Reales', marker='o', linestyle='-', markersize=2)\n",
    "plt.plot(range(1, 201), prediccion[0, :200], label='Predicción Red Neuronal', marker='x', linestyle='--', markersize=2)\n",
    "plt.title('Comparación de Valores de Energía: Real vs. Predicción')\n",
    "plt.xlabel('Milisegundos')\n",
    "plt.ylabel('Energía')\n",
    "plt.legend()\n",
    "plt.show()\n"
   ]
  },
  {
   "cell_type": "markdown",
   "metadata": {},
   "source": [
    "#### Guardamos el modelo en .h5"
   ]
  },
  {
   "cell_type": "code",
   "execution_count": 30,
   "metadata": {},
   "outputs": [
    {
     "name": "stderr",
     "output_type": "stream",
     "text": [
      "WARNING:absl:You are saving your model as an HDF5 file via `model.save()` or `keras.saving.save_model(model)`. This file format is considered legacy. We recommend using instead the native Keras format, e.g. `model.save('my_model.keras')` or `keras.saving.save_model(model, 'my_model.keras')`. \n"
     ]
    }
   ],
   "source": [
    "model.save('modelASO.h5')"
   ]
  }
 ],
 "metadata": {
  "kernelspec": {
   "display_name": "env",
   "language": "python",
   "name": "python3"
  },
  "language_info": {
   "codemirror_mode": {
    "name": "ipython",
    "version": 3
   },
   "file_extension": ".py",
   "mimetype": "text/x-python",
   "name": "python",
   "nbconvert_exporter": "python",
   "pygments_lexer": "ipython3",
   "version": "3.11.2"
  }
 },
 "nbformat": 4,
 "nbformat_minor": 2
}
